{
  "nbformat": 4,
  "nbformat_minor": 0,
  "metadata": {
    "colab": {
      "provenance": []
    },
    "kernelspec": {
      "name": "python3",
      "display_name": "Python 3"
    },
    "language_info": {
      "name": "python"
    }
  },
  "cells": [
    {
      "cell_type": "code",
      "source": [
        "!pip install bs4\n"
      ],
      "metadata": {
        "colab": {
          "base_uri": "https://localhost:8080/"
        },
        "id": "ZsX4eqkAmMOQ",
        "outputId": "13531f62-bf3e-473d-c425-af6c7a2ca4c2"
      },
      "execution_count": null,
      "outputs": [
        {
          "output_type": "stream",
          "name": "stdout",
          "text": [
            "Looking in indexes: https://pypi.org/simple, https://us-python.pkg.dev/colab-wheels/public/simple/\n",
            "Requirement already satisfied: bs4 in /usr/local/lib/python3.7/dist-packages (0.0.1)\n",
            "Requirement already satisfied: beautifulsoup4 in /usr/local/lib/python3.7/dist-packages (from bs4) (4.6.3)\n"
          ]
        }
      ]
    },
    {
      "cell_type": "code",
      "source": [
        "import urllib\n",
        "import requests"
      ],
      "metadata": {
        "id": "Gg7QIGKWnIa1"
      },
      "execution_count": null,
      "outputs": []
    },
    {
      "cell_type": "code",
      "source": [
        "from bs4 import BeautifulSoup"
      ],
      "metadata": {
        "id": "zyKXlFntnN3v"
      },
      "execution_count": null,
      "outputs": []
    },
    {
      "cell_type": "code",
      "source": [
        "url=\"https://www.poetry.com/poem/41359/a-fairy-song\""
      ],
      "metadata": {
        "id": "5Rwt_ok5nd0_"
      },
      "execution_count": null,
      "outputs": []
    },
    {
      "cell_type": "code",
      "source": [
        "page=requests.get(url)"
      ],
      "metadata": {
        "id": "Kf8K6Uerni7F"
      },
      "execution_count": null,
      "outputs": []
    },
    {
      "cell_type": "code",
      "source": [
        "print(page)"
      ],
      "metadata": {
        "colab": {
          "base_uri": "https://localhost:8080/"
        },
        "id": "5xyyjkOKoU5Q",
        "outputId": "8d19ce33-06a8-4c75-ad4f-42d1b0e1acf0"
      },
      "execution_count": null,
      "outputs": [
        {
          "output_type": "stream",
          "name": "stdout",
          "text": [
            "<Response [200]>\n"
          ]
        }
      ]
    },
    {
      "cell_type": "code",
      "source": [
        "soup=BeautifulSoup(page.content,'html.parser')"
      ],
      "metadata": {
        "id": "CfDTmPAgoqGm"
      },
      "execution_count": null,
      "outputs": []
    },
    {
      "cell_type": "code",
      "source": [
        "import requests\n",
        "from bs4 import BeautifulSoup\n",
        "\n",
        "\n",
        "# Making a GET request\n",
        "r = requests.get('https://www.williamshakespeare.net/a-fairy-song.jsp')\n",
        "\n",
        "# Parsing the HTML\n",
        "soup = BeautifulSoup(r.content, 'html.parser')\n",
        "\n",
        "s = soup.find('div', class_='art-postcontent')\n",
        "content = s.find_all('p')\n",
        "\n",
        "print(content)"
      ],
      "metadata": {
        "colab": {
          "base_uri": "https://localhost:8080/"
        },
        "id": "99TDJ-HiVuvR",
        "outputId": "e1b2de99-6b8f-42a8-8104-ee059707d0f4"
      },
      "execution_count": null,
      "outputs": [
        {
          "output_type": "stream",
          "name": "stdout",
          "text": [
            "[<p>\n",
            "<div style=\"margin-left: 25%;\">\n",
            "<br/>Over hill, over dale,\n",
            "\t\t\t\t\t<br/>Thorough bush, thorough brier,\n",
            "\t\t\t\t\t<br/>Over park, over pale,\n",
            "\t\t\t\t\t<br/>Thorough flood, thorough fire!\n",
            "\t\t\t\t\t<br/>I do wander everywhere,\n",
            "\t\t\t\t\t<br/>Swifter than the moon's sphere;\n",
            "\t\t\t\t\t<br/>And I serve the Fairy Queen,\n",
            "\t\t\t\t\t<br/>To dew her orbs upon the green;\n",
            "\t\t\t\t\t<br/>The cowslips tall her pensioners be;\n",
            "\t\t\t\t\t<br/>In their gold coats spots you see;\n",
            "\t\t\t\t\t<br/>Those be rubies, fairy favours;\n",
            "\t\t\t\t\t<br/>In those freckles live their savours;\n",
            "\t\t\t\t\t<br/>I must go seek some dewdrops here,\n",
            "\t\t\t\t\t<br/>And hang a pearl in every cowslip's ear. \n",
            "\t\t\t\t\t\n",
            "\t\t\t\t\t</div>\n",
            "<!-- /article-content -->\n",
            "</p>]\n"
          ]
        }
      ]
    },
    {
      "cell_type": "code",
      "source": [
        "with open('textprocess.txt', 'w') as f:\n",
        "   f.write(\"Thorough bush, thorough brier,\")\n",
        "   f.write(\"\\nOver park, over pale,\")\n",
        "   f.write(\"\\nThorough flood, thorough fire!\")\n",
        "   f.write(\"\\nI do wander everywhere,\")\n",
        "   f.write(\"\\nSwifter than the moon's sphere\")\n",
        "   f.write(\"\\nAnd I serve the Fairy Queen,\")\n",
        "   f.write(\"\\nTo dew her orbs upon the green\")\n",
        "   f.write(\"\\nThe cowslips tall her pensioners be\")\n",
        "   f.write(\"\\nIn their gold coats spots you see\")\n",
        "   f.write(\"\\nThose be rubies, fairy favours\")\n",
        "   f.write(\"\\nIn those freckles live their savours\")\n",
        "   f.write(\"\\nI must go seek some dewdrops here,\")\n",
        "   f.write(\"\\nAnd hang a pearl in every cowslip's ear.\")\n",
        "   f.close()"
      ],
      "metadata": {
        "id": "0NhBDkbOiHJ9"
      },
      "execution_count": null,
      "outputs": []
    },
    {
      "cell_type": "code",
      "source": [
        "f = open('textprocess.txt',\"r+\")\n",
        "print(f.read())\n",
        "print()"
      ],
      "metadata": {
        "colab": {
          "base_uri": "https://localhost:8080/"
        },
        "id": "Rmgwk490t6SS",
        "outputId": "6371f1f2-f1e1-4ff0-b593-8bda0c8c597c"
      },
      "execution_count": null,
      "outputs": [
        {
          "output_type": "stream",
          "name": "stdout",
          "text": [
            "Thorough bush, thorough brier,\n",
            "Over park, over pale,\n",
            "Thorough flood, thorough fire!\n",
            "I do wander everywhere,\n",
            "Swifter than the moon's sphere\n",
            "And I serve the Fairy Queen,\n",
            "To dew her orbs upon the green\n",
            "The cowslips tall her pensioners be\n",
            "In their gold coats spots you see\n",
            "Those be rubies, fairy favours\n",
            "In those freckles live their savours\n",
            "I must go seek some dewdrops here,\n",
            "And hang a pearl in every cowslip's ear.\n",
            "\n"
          ]
        }
      ]
    },
    {
      "cell_type": "code",
      "source": [
        "def extract_features(document):\n",
        "    document_words = set(document)\n",
        "    features = {}\n",
        "    for word in w_features:\n",
        "        features[f'contains({word})'] = (word in document_words)\n",
        "    return features"
      ],
      "metadata": {
        "id": "wZEOLuZJbyTx"
      },
      "execution_count": null,
      "outputs": []
    },
    {
      "cell_type": "code",
      "source": [
        "filepath = 'textprocess.txt'\n",
        "with open(filepath) as fp:\n",
        "   line = fp.readline()\n",
        "   cnt = 1\n",
        "   while line:\n",
        "      #print(\"Line {}: {}\".format(cnt, line.strip()))\n",
        "       line = fp.readline()\n",
        "       extract_features(line)\n",
        "       cnt += 1"
      ],
      "metadata": {
        "colab": {
          "base_uri": "https://localhost:8080/",
          "height": 339
        },
        "id": "in3_OdYsb8mn",
        "outputId": "68da6256-4622-41a6-99e0-832cde5e6639"
      },
      "execution_count": null,
      "outputs": [
        {
          "output_type": "error",
          "ename": "NameError",
          "evalue": "ignored",
          "traceback": [
            "\u001b[0;31m---------------------------------------------------------------------------\u001b[0m",
            "\u001b[0;31mNameError\u001b[0m                                 Traceback (most recent call last)",
            "\u001b[0;32m<ipython-input-22-731f3b20fb9b>\u001b[0m in \u001b[0;36m<module>\u001b[0;34m\u001b[0m\n\u001b[1;32m      6\u001b[0m       \u001b[0;31m#print(\"Line {}: {}\".format(cnt, line.strip()))\u001b[0m\u001b[0;34m\u001b[0m\u001b[0;34m\u001b[0m\u001b[0;34m\u001b[0m\u001b[0m\n\u001b[1;32m      7\u001b[0m        \u001b[0mline\u001b[0m \u001b[0;34m=\u001b[0m \u001b[0mfp\u001b[0m\u001b[0;34m.\u001b[0m\u001b[0mreadline\u001b[0m\u001b[0;34m(\u001b[0m\u001b[0;34m)\u001b[0m\u001b[0;34m\u001b[0m\u001b[0;34m\u001b[0m\u001b[0m\n\u001b[0;32m----> 8\u001b[0;31m        \u001b[0mextract_features\u001b[0m\u001b[0;34m(\u001b[0m\u001b[0mline\u001b[0m\u001b[0;34m)\u001b[0m\u001b[0;34m\u001b[0m\u001b[0;34m\u001b[0m\u001b[0m\n\u001b[0m\u001b[1;32m      9\u001b[0m        \u001b[0mcnt\u001b[0m \u001b[0;34m+=\u001b[0m \u001b[0;36m1\u001b[0m\u001b[0;34m\u001b[0m\u001b[0;34m\u001b[0m\u001b[0m\n",
            "\u001b[0;32m<ipython-input-21-eb6bb6a6e9f1>\u001b[0m in \u001b[0;36mextract_features\u001b[0;34m(document)\u001b[0m\n\u001b[1;32m      2\u001b[0m     \u001b[0mdocument_words\u001b[0m \u001b[0;34m=\u001b[0m \u001b[0mset\u001b[0m\u001b[0;34m(\u001b[0m\u001b[0mdocument\u001b[0m\u001b[0;34m)\u001b[0m\u001b[0;34m\u001b[0m\u001b[0;34m\u001b[0m\u001b[0m\n\u001b[1;32m      3\u001b[0m     \u001b[0mfeatures\u001b[0m \u001b[0;34m=\u001b[0m \u001b[0;34m{\u001b[0m\u001b[0;34m}\u001b[0m\u001b[0;34m\u001b[0m\u001b[0;34m\u001b[0m\u001b[0m\n\u001b[0;32m----> 4\u001b[0;31m     \u001b[0;32mfor\u001b[0m \u001b[0mword\u001b[0m \u001b[0;32min\u001b[0m \u001b[0mw_features\u001b[0m\u001b[0;34m:\u001b[0m\u001b[0;34m\u001b[0m\u001b[0;34m\u001b[0m\u001b[0m\n\u001b[0m\u001b[1;32m      5\u001b[0m         \u001b[0mfeatures\u001b[0m\u001b[0;34m[\u001b[0m\u001b[0;34mf'contains({word})'\u001b[0m\u001b[0;34m]\u001b[0m \u001b[0;34m=\u001b[0m \u001b[0;34m(\u001b[0m\u001b[0mword\u001b[0m \u001b[0;32min\u001b[0m \u001b[0mdocument_words\u001b[0m\u001b[0;34m)\u001b[0m\u001b[0;34m\u001b[0m\u001b[0;34m\u001b[0m\u001b[0m\n\u001b[1;32m      6\u001b[0m     \u001b[0;32mreturn\u001b[0m \u001b[0mfeatures\u001b[0m\u001b[0;34m\u001b[0m\u001b[0;34m\u001b[0m\u001b[0m\n",
            "\u001b[0;31mNameError\u001b[0m: name 'w_features' is not defined"
          ]
        }
      ]
    },
    {
      "cell_type": "code",
      "source": [],
      "metadata": {
        "id": "s9qzyZNjhMtr"
      },
      "execution_count": null,
      "outputs": []
    }
  ]
}